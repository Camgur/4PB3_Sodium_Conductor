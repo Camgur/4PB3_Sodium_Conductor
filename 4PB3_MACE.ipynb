{
  "nbformat": 4,
  "nbformat_minor": 0,
  "metadata": {
    "colab": {
      "provenance": [],
      "gpuType": "V100"
    },
    "kernelspec": {
      "name": "python3",
      "display_name": "Python 3"
    },
    "language_info": {
      "name": "python"
    },
    "accelerator": "GPU"
  },
  "cells": [
    {
      "cell_type": "code",
      "source": [
        "from google.colab import drive\n",
        "drive.mount('/content/drive/')"
      ],
      "metadata": {
        "id": "Yzx7AepT-rHd"
      },
      "execution_count": null,
      "outputs": []
    },
    {
      "cell_type": "code",
      "execution_count": null,
      "metadata": {
        "id": "8n8x9ozI9zdY"
      },
      "outputs": [],
      "source": [
        "!pip install torch==2.0.1 torchvision==0.15.2 torchaudio==2.0.2 --index-url https://download.pytorch.org/whl/cu118\n",
        "!pip install mace-torch\n",
        "!pip install spglib\n",
        "!pip install nglview==3.0.3\n",
        "!pip install bvlain"
      ]
    },
    {
      "cell_type": "code",
      "source": [
        "import torch\n",
        "import numpy as np\n",
        "import mace\n",
        "\n",
        "import matplotlib as mpl\n",
        "import matplotlib.pyplot as plt\n",
        "\n",
        "from mace.calculators import mace_mp, MACECalculator\n",
        "from ase.calculators.loggingcalc import LoggingCalculator\n",
        "from ase.optimize import BFGS\n",
        "\n",
        "from ase.visualize import view\n",
        "from ase import build, units, atoms\n",
        "from ase.io import read, write, Trajectory\n",
        "from ase.io.animation import write_gif\n",
        "\n",
        "from ase.constraints import ExpCellFilter, StrainFilter, UnitCellFilter\n",
        "from ase.spacegroup.symmetrize import FixSymmetry, check_symmetry\n",
        "from spglib import get_spacegroup"
      ],
      "metadata": {
        "id": "sVveiCA3raFu"
      },
      "execution_count": 3,
      "outputs": []
    },
    {
      "cell_type": "code",
      "source": [
        "# Printing True if GPU is connected\n",
        "print(torch.cuda.is_available())"
      ],
      "metadata": {
        "id": "HVpTpPBux9C9"
      },
      "execution_count": null,
      "outputs": []
    },
    {
      "cell_type": "code",
      "source": [
        "# List of generic structures to be imported\n",
        "from ase.collections import g2\n",
        "print(g2.names)"
      ],
      "metadata": {
        "id": "dhrAfgrxeFJQ"
      },
      "execution_count": null,
      "outputs": []
    },
    {
      "cell_type": "code",
      "source": [
        "# Building a water molecule\n",
        "atoms = build.molecule('H2O')\n",
        "view(atoms, viewer='x3d')"
      ],
      "metadata": {
        "id": "d2xicBRCroA6"
      },
      "execution_count": null,
      "outputs": []
    },
    {
      "cell_type": "code",
      "source": [
        "# Setting the calculator for the atom structure\n",
        "calculator = mace_mp(model=\"medium\", dispersion=False, default_dtype=\"float64\", device='cuda')\n",
        "atoms.calc = calculator\n",
        "\n",
        "print(atoms.get_potential_energy())"
      ],
      "metadata": {
        "id": "FxG5hLbRsWfk"
      },
      "execution_count": null,
      "outputs": []
    },
    {
      "cell_type": "code",
      "source": [
        "# Setting the MACE-MP-0 Calculator\n",
        "calculator = MACECalculator(model_paths='/content/drive/MyDrive/Chem_4PB3/Resources/2024-01-07-mace-128-L2_epoch-199.model',\n",
        "                            dispersion=False, device='cuda', default_dtype='float64')\n",
        "atoms.calc = calculator\n",
        "\n",
        "print(atoms.get_potential_energy())"
      ],
      "metadata": {
        "id": "GwLZFqaAvA5M"
      },
      "execution_count": null,
      "outputs": []
    },
    {
      "cell_type": "code",
      "source": [
        "# Track Data\n",
        "nsteps = []\n",
        "energies = []\n",
        "log_calc = LoggingCalculator(calculator)\n",
        "\n",
        "print(atoms.symbols)\n",
        "\n",
        "# Set Log\n",
        "atoms.calc = log_calc\n",
        "\n",
        "# Optimise\n",
        "opt = BFGS(atoms, trajectory='/content/drive/MyDrive/Chem_4PB3/Resources/Optimisation_Stuff/H2O.traj')"
      ],
      "metadata": {
        "id": "fv3LRMWh0KcT"
      },
      "execution_count": null,
      "outputs": []
    },
    {
      "cell_type": "code",
      "source": [
        "# Run Optimise\n",
        "opt.run(fmax=1e-4)\n",
        "print('Finished!!!')"
      ],
      "metadata": {
        "id": "SOmEPq7P1fFM"
      },
      "execution_count": null,
      "outputs": []
    },
    {
      "cell_type": "code",
      "source": [
        "# Plot Out\n",
        "plt.figure(figsize=(10,10))\n",
        "log_calc.plot(markers=['r-', 'b-'], energy=True, lw=2)\n",
        "plt.show()"
      ],
      "metadata": {
        "id": "r9inaN7y1leO"
      },
      "execution_count": null,
      "outputs": []
    },
    {
      "cell_type": "code",
      "source": [
        "print(atoms.get_potential_energy())"
      ],
      "metadata": {
        "id": "qb3F_PEG4aqV"
      },
      "execution_count": null,
      "outputs": []
    },
    {
      "cell_type": "code",
      "source": [
        "from ase.vibrations import Vibrations\n",
        "\n",
        "# Running analysis of the vibrational modes\n",
        "# of H2O\n",
        "vib = Vibrations(atoms)\n",
        "vib.run()\n",
        "vib.summary()\n",
        "vib.write_mode(n=None, kT=0.02585199101165164, nimages=60)"
      ],
      "metadata": {
        "id": "voanQ2lVdqtN"
      },
      "execution_count": null,
      "outputs": []
    },
    {
      "cell_type": "code",
      "source": [
        "import os\n",
        "\n",
        "# Set the directory to connect\n",
        "directory = '/content/'\n",
        "\n",
        "# Iterate over the listed files in the directory\n",
        "for filename in os.listdir(directory):\n",
        "  f = os.path.join(directory, filename)\n",
        "\n",
        "  if f.endswith('.traj'): # If it is a trajectory file, it will proceed\n",
        "    traj = Trajectory(f)\n",
        "    write_gif(f.strip('.traj') + '.mp4', traj, interval=33, rotation=('270x,90y,0z')) #Writing an mp4 file"
      ],
      "metadata": {
        "id": "atxvSs5XpIJL"
      },
      "execution_count": null,
      "outputs": []
    },
    {
      "cell_type": "code",
      "source": [
        "from IPython.display import Video\n",
        "Video('/content/vib.6.mp4', embed=True) # Vibrational mode 6 for H2O\n",
        "\n",
        "# If the above fails:\n",
        "# Video('/content/drive/MyDrive/Chem_4PB3/Resources/vib.6.mp4', embed=True)"
      ],
      "metadata": {
        "id": "B-8xtL4FL3-2"
      },
      "execution_count": null,
      "outputs": []
    },
    {
      "cell_type": "code",
      "source": [
        "from google.colab import output\n",
        "output.enable_custom_widget_manager()"
      ],
      "metadata": {
        "id": "EPazEDYpeqhP"
      },
      "execution_count": 4,
      "outputs": []
    },
    {
      "cell_type": "code",
      "source": [
        "import nglview as nv\n",
        "\n",
        "traj = Trajectory('/content/vib.6.traj')\n",
        "view(traj, viewer='ngl')"
      ],
      "metadata": {
        "id": "Xphywb1Pe4mD"
      },
      "execution_count": null,
      "outputs": []
    },
    {
      "cell_type": "code",
      "source": [
        "from google.colab import output\n",
        "output.enable_custom_widget_manager()"
      ],
      "metadata": {
        "id": "oJFoYVt6gqv1"
      },
      "execution_count": 6,
      "outputs": []
    },
    {
      "cell_type": "code",
      "source": [
        "# Importing Stuff\n",
        "atoms = read('/content/drive/MyDrive/Chem_4PB3/Resources/Na4Sn2Ge5O16_fixed.cif')\n",
        "\n",
        "# Set Calculator\n",
        "atoms.calc = calculator\n",
        "print(atoms.symbols)\n",
        "\n",
        "# Track Data\n",
        "nsteps = []\n",
        "energies = []\n",
        "log_calc = LoggingCalculator(calculator)\n",
        "\n",
        "# Set Log\n",
        "atoms.calc = log_calc\n",
        "\n",
        "# Set Cell filter (preserve unit cell ratioe or symmetry)\n",
        "# atoms = ExpCellFilter(atoms, hydrostatic_strain=False)\n",
        "atoms.set_constraint(FixSymmetry(atoms))\n",
        "\n",
        "view(atoms, viewer='ngl')"
      ],
      "metadata": {
        "id": "PfDf7EibPwSa"
      },
      "execution_count": null,
      "outputs": []
    },
    {
      "cell_type": "code",
      "source": [
        "from ase.visualize.plot import plot_atoms\n",
        "\n",
        "# Begin Plot\n",
        "fig, axarr = plt.subplots(1, 2, figsize=(10, 7))\n",
        "\n",
        "plot_atoms(atoms, axarr[0], radii=0.3, rotation=('0x,0y,0z')).set_title('Pristine')\n",
        "\n",
        "\n",
        "atoms.rattle(1) #Angstom, gaussian\n",
        "\n",
        "\n",
        "plot_atoms(atoms, axarr[1], radii=0.3, rotation=('0x,0y,0z')).set_title('Rattled')\n",
        "\n",
        "plt.show()"
      ],
      "metadata": {
        "id": "E8RFZPKfQZ6L"
      },
      "execution_count": null,
      "outputs": []
    },
    {
      "cell_type": "code",
      "source": [
        "print(\"Cell size before: \", atoms.cell)"
      ],
      "metadata": {
        "id": "uYAtpGc3Q7vB"
      },
      "execution_count": null,
      "outputs": []
    },
    {
      "cell_type": "code",
      "source": [
        "# Run Optimise\n",
        "opt = BFGS(UnitCellFilter(atoms), trajectory='/content/trajectory.traj')\n",
        "opt.run(fmax=1e-4)\n",
        "\n",
        "print(\"Cell size after : \", atoms.cell)\n",
        "print(\"Spacegroup: \", get_spacegroup((atoms.cell, atoms.get_scaled_positions(), atoms.numbers), symprec=1e-2))\n",
        "atoms.write('/content/optimisation.cif')\n",
        "\n",
        "# Plot Out\n",
        "plt.figure(figsize=(10,10))\n",
        "log_calc.plot(markers=['r-', 'b-'], energy=True, lw=2)\n",
        "plt.show()\n",
        "\n",
        "print('Finished!!!')"
      ],
      "metadata": {
        "id": "VMZmPIV4bfKe"
      },
      "execution_count": null,
      "outputs": []
    },
    {
      "cell_type": "markdown",
      "source": [
        "Example code for running iterations:\n",
        "\n",
        "```\n",
        "for i in range(iter):\n",
        "    print('Iteration: ', i+1)\n",
        "    # Set Savestate\n",
        "    trajsave = '/content/Trajectories/Trajectory_1_'\n",
        "    trajsave += str(i)\n",
        "    trajsave += '.traj'\n",
        "    cifsave = '/content/TCIF/Crystal_1_'\n",
        "    cifsave += str(i)\n",
        "    cifsave += '.cif'\n",
        "\n",
        "    #set atoms\n",
        "    atoms = read('/content/drive/MyDrive/Chem_4PB3/Resources/Na4Sn2Ge5O16_fixed.cif')\n",
        "    atoms.set_constraint(FixSymmetry(atoms))\n",
        "    atoms.rattle(stdev=1, seed=i) # seed required to generate different randomness\n",
        "    atoms.calc = calculator\n",
        "\n",
        "    # Optimise\n",
        "    opt = BFGS(UnitCellFilter(atoms), trajectory=trajsave)\n",
        "    opt.run(fmax=1e-4)\n",
        "    atoms.write(cifsave)\n",
        "\n",
        "    # Output Params\n",
        "    print('\\n\\n')\n",
        "    print(\"Cell size after : \", atoms.cell)\n",
        "    print(\"Spacegroup: \", get_spacegroup((atoms.cell, atoms.get_scaled_positions(), atoms.numbers), symprec=1e-2))\n",
        "    print('Iteration: ', i+1)\n",
        "```\n"
      ],
      "metadata": {
        "id": "l6IPx2v2dQkG"
      }
    },
    {
      "cell_type": "markdown",
      "source": [
        "To create a compilation of trajectories:\n",
        "```\n",
        "# Import Trajectories\n",
        "traj = []\n",
        "for i in range(15):\n",
        "    traject = '/content/Trajectories/Trajectory_1_' + str(i) + '.traj'\n",
        "    traj.append(Trajectory(traject))\n",
        "\n",
        "# Draft Compiled Trajectory\n",
        "write('/content/Compiled.traj', '')\n",
        "for i in range(len(traj[0])):\n",
        "    atom = None\n",
        "    atoms = []\n",
        "    for n in range(len(traj)):\n",
        "        atoms.append(traj[n][i])\n",
        "    atom = atoms[0] + atoms[1] + atoms[2] + atoms[3] + atoms[4] + atoms[5] + atoms[6] + atoms[7] +\\\n",
        "            atoms[8] + atoms[9] + atoms[10] + atoms[11] + atoms[12] + atoms[13] + atoms[14]\n",
        "    with Trajectory('/content/Compiled.traj', mode='a') as trajectory:\n",
        "        trajectory.write(atom)\n",
        "```\n",
        "Annoyingly, it is surprisingly difficult to work with trajectory files containing more than one <code>atoms</code> object!"
      ],
      "metadata": {
        "id": "wnMqdzD1lSen"
      }
    },
    {
      "cell_type": "code",
      "source": [
        "from google.colab import output\n",
        "output.enable_custom_widget_manager()"
      ],
      "metadata": {
        "id": "-qTLbm_bkT-P"
      },
      "execution_count": 10,
      "outputs": []
    },
    {
      "cell_type": "markdown",
      "source": [
        "This dataset had one outlier convergence (rattle = 1 A):"
      ],
      "metadata": {
        "id": "y72HMtHlGA_4"
      }
    },
    {
      "cell_type": "code",
      "source": [
        "traj = Trajectory('/content/drive/MyDrive/Chem_4PB3/Resources/Compiled_out.traj')\n",
        "view(traj, viewer='ngl')\n",
        "# Use atom index colour to show the overlap converging\n",
        "\n",
        "# write('/content/drive/MyDrive/Chem_4PB3/Resources/Compiled.mp4', traj, interval=33, rotation=('45x,45y,35z'))"
      ],
      "metadata": {
        "id": "wXheE5slkgWu"
      },
      "execution_count": null,
      "outputs": []
    },
    {
      "cell_type": "code",
      "source": [
        "length = []\n",
        "for i in range(15):\n",
        "  traj = Trajectory('/content/drive/MyDrive/Chem_4PB3/Resources/Trajectories/Trajectory_1_' + str(i) + '.traj')\n",
        "  length.append(len(traj))\n",
        "print(length)\n",
        "print('Trajectory 13: ', length[13], '\\n\\n\\n')\n",
        "\n",
        "traj = Trajectory('/content/drive/MyDrive/Chem_4PB3/Resources/Trajectories/Trajectory_1_13.traj')\n",
        "print('Initial Energy (eV): ', traj[0].get_total_energy())\n",
        "print('Final Energy (eV): ', traj[-1].get_total_energy())"
      ],
      "metadata": {
        "id": "86jzUqYZ4C6z"
      },
      "execution_count": null,
      "outputs": []
    },
    {
      "cell_type": "markdown",
      "source": [
        "With the outlier removed:"
      ],
      "metadata": {
        "id": "czi_zkz4GHqv"
      }
    },
    {
      "cell_type": "code",
      "source": [
        "from google.colab import output\n",
        "output.enable_custom_widget_manager()"
      ],
      "metadata": {
        "id": "3l3qHzztLZjE"
      },
      "execution_count": 13,
      "outputs": []
    },
    {
      "cell_type": "code",
      "source": [
        "traj = Trajectory('/content/drive/MyDrive/Chem_4PB3/Resources/Compiled.traj')\n",
        "view(traj, viewer='ngl')\n",
        "# Use atom index colour to show the overlap converging\n",
        "\n",
        "# write('/content/drive/MyDrive/Chem_4PB3/Resources/Compiled.mp4', traj, interval=33, rotation=('45x,45y,35z'))"
      ],
      "metadata": {
        "id": "BA-RtHv9GG0I"
      },
      "execution_count": null,
      "outputs": []
    },
    {
      "cell_type": "code",
      "source": [
        "# Set energies\n",
        "energies = []\n",
        "for i in range(15):\n",
        "    if i != 13: # Delete Outlier\n",
        "        traj = Trajectory('/content/drive/MyDrive/Chem_4PB3/Resources/Trajectories/Trajectory_1_' + str(i) + '.traj')\n",
        "        energy = []\n",
        "        for n in range(170):\n",
        "            energy.append(traj[n].get_total_energy())\n",
        "        energies.append(energy)\n",
        "        print('Iteration: ', i + 1)\n",
        "\n",
        "energies = np.array(energies)\n",
        "\n",
        "# Average by iteration\n",
        "average = []\n",
        "stdev = []\n",
        "for i in range(170):\n",
        "    average = np.append(average, np.average(energies[:, i]))\n",
        "    stdev = np.append(stdev, np.std(energies[:, i]))"
      ],
      "metadata": {
        "id": "qfouCr51FSw0"
      },
      "execution_count": null,
      "outputs": []
    },
    {
      "cell_type": "code",
      "source": [
        "# Set linspace for dataset\n",
        "x1 = np.linspace(1, 170, 170)\n",
        "x2 = np.linspace(1, 20, 20)\n",
        "y = average\n",
        "\n",
        "# Plotting the set\n",
        "fig, ax = plt.subplots(figsize=(10,10), layout=\"tight\")\n",
        "ax.plot(x1, average, color='black')\n",
        "plt.fill_between(x1, y-stdev, y+stdev, color='red', alpha=.3) # This is the standard deviation\n",
        "ax.set_xlabel('Iteration')\n",
        "ax.set_ylabel('Average Energy (eV)')\n",
        "ax.set_title('Average Energy Over Iteration Number', pad=30)\n",
        "\n",
        "plt.show()"
      ],
      "metadata": {
        "id": "5FzGGH-LFZ27"
      },
      "execution_count": null,
      "outputs": []
    },
    {
      "cell_type": "markdown",
      "source": [
        "## Zoomed in on first 20 iterations"
      ],
      "metadata": {
        "id": "uNKe9nrQNQ1a"
      }
    },
    {
      "cell_type": "code",
      "source": [
        "fig, ax = plt.subplots(figsize=(10,10), layout=\"tight\")\n",
        "ax.plot(x2, average[:20], color='black')\n",
        "# ax.errorbar(np.linspace(1, 170, 170), average, yerr=stdev, fmt='none', color='red')\n",
        "plt.fill_between(x2, y[:20]-stdev[:20], y[:20]+stdev[:20], color='red', alpha=.3)\n",
        "ax.set_xlabel('Iteration')\n",
        "ax.set_xticks(x2)\n",
        "ax.set_ylabel('Average Energy (eV)')\n",
        "ax.set_title('Average Energy Over Iteration Number', pad=30)\n",
        "\n",
        "plt.show()"
      ],
      "metadata": {
        "id": "sLz8i0fLFeqf"
      },
      "execution_count": null,
      "outputs": []
    },
    {
      "cell_type": "code",
      "source": [
        "from bvlain import Lain\n",
        "\n",
        "# Actually Using: BVlain\n",
        "# https://pypi.org/project/bvlain/\n",
        "# https://bvlain.readthedocs.io/en/latest/index.html\n",
        "\n",
        "# Initialise File\n",
        "file = '/content/drive/MyDrive/Chem_4PB3/Resources/Optimisation_Stuff/Optimisation_0_3.cif'\n",
        "\n",
        "# Set Calculator\n",
        "calc = Lain(verbose=True)\n",
        "\n",
        "# Set State\n",
        "st = calc.read_file(file)\n",
        "\n",
        "params = {'mobile_ion': 'Na1+',    # mobile specie\n",
        "\t\t  'r_cut': 10.0,           # cutoff for interaction between the mobile species and framework\n",
        "\t\t  'resolution': 0.1,\t   # distance between the grid points\n",
        "\t\t  'k': 100                 # maximum number of neighbors to be collected for each point\n",
        "}"
      ],
      "metadata": {
        "id": "6OqjdeVzJno3"
      },
      "execution_count": 15,
      "outputs": []
    },
    {
      "cell_type": "markdown",
      "source": [
        "## This Crashes:\n",
        "\n",
        "I don't know why"
      ],
      "metadata": {
        "id": "kjB37F86OtTZ"
      }
    },
    {
      "cell_type": "code",
      "source": [
        "# Run Distributions\n",
        "_ = calc.bvse_distribution(**params)\n",
        "# _ = calc.void_distribution(**params)\n",
        "\n",
        "# Perform Percolation Analysis\n",
        "calc.percolation_barriers(encut = 5.0)\n",
        "\n",
        "# Create Savestate\n",
        "savestate = file.replace('.cif', '_bvel')\n",
        "\n",
        "# Write Grid File\n",
        "calc.write_grd(filename = savestate, task = 'bvse')  # saves .grd file\n",
        "calc.write_cube(filename = savestate, task = 'bvse')  # saves .cube file\n",
        "\n",
        "# Check for Mismatches\n",
        "table = calc.mismatch(r_cut = 4.0)\n",
        "# print(table.to_string())\n",
        "print('Finished!!!')\n",
        "\n",
        "# MAKE SURE TO SET ISOSURFACE TO 0.4\n",
        "# MUST SET THE ISOSURFACE TO NEGATIVE"
      ],
      "metadata": {
        "id": "mC9eLzBIM3qM"
      },
      "execution_count": null,
      "outputs": []
    },
    {
      "cell_type": "markdown",
      "source": [
        "## Displaying the Ion Channels"
      ],
      "metadata": {
        "id": "gqcGIpG0NcQi"
      }
    },
    {
      "cell_type": "code",
      "source": [
        "from IPython.display import Image\n",
        "Image('/content/drive/MyDrive/Chem_4PB3/Figures/Na4Sn2Ge5O16.png', embed=True, width='1000')"
      ],
      "metadata": {
        "id": "GkdSUn_FPn0R"
      },
      "execution_count": null,
      "outputs": []
    },
    {
      "cell_type": "code",
      "source": [
        "Image('/content/drive/MyDrive/Chem_4PB3/Figures/Na4Sn2Ge5O16_NoAtoms.png', embed=True, width='1000')"
      ],
      "metadata": {
        "id": "4s6q7IN9Rb-w"
      },
      "execution_count": null,
      "outputs": []
    },
    {
      "cell_type": "code",
      "source": [
        "Image('/content/drive/MyDrive/Chem_4PB3/Figures/Na4Sn2Ge5O16_NoPolyhedra.png', embed=True, width='1000')"
      ],
      "metadata": {
        "id": "_FFV8taQRcul"
      },
      "execution_count": null,
      "outputs": []
    }
  ]
}