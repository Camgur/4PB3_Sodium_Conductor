{
  "nbformat": 4,
  "nbformat_minor": 0,
  "metadata": {
    "colab": {
      "provenance": [],
      "gpuType": "V100"
    },
    "kernelspec": {
      "name": "python3",
      "display_name": "Python 3"
    },
    "language_info": {
      "name": "python"
    },
    "accelerator": "GPU"
  },
  "cells": [
    {
      "cell_type": "markdown",
      "source": [
        "# Sodium Conductor Project\n",
        "### Chem 4PB3 - Winter 2024\n",
        "##### Cameron Gurwell\n",
        "<hr></hr>\n",
        "\n",
        "<p>For most standard applications of structure optimisation\n",
        "(e.g. <strong>CASTEP, VASP, Quantum Espresso</strong>), a high powered supercomputer is necessary\n",
        "to crunch the large amounts of data and numbers. This project was aimed at investigating the recent\n",
        "developments into low power structure optimisation using ML.</p>\n",
        "\n",
        "<p><strong>MACE</strong>, the optimisation library used inside of <strong>Python</strong>, was developed\n",
        "using the <strong>ASE</strong> framework and uses complex ANSATZ picking to construct wavefunctions.\n",
        "<strong>MACE-MP-0</strong>, the model used ontop of MACE, was developed by the\n",
        "<strong>Materials Project</strong> and <strong>MACE</strong> as a pretrained model to pick ANSATZ for\n",
        "89 elements on the periodic table.</p>\n",
        "\n",
        "<p>This project used the above materials to create the below figure using structure optimisation\n",
        "and a library called <strong>BVLain</strong> to construct sodium ion pathways through a novel conductor\n",
        "intially developed by the <strong>Mozharivskyj Group</strong> and investigated by the\n",
        "<strong>Goward Group</strong>.</p><br>\n",
        "\n",
        "> Novikov, S., et al., <em>Inorganic Chemistry</em> <strong>2023</strong>, <em>62</em>, 16068-16076.\n",
        "\n",
        "<br>\n",
        "<p><em><strong>Most calculations and work was completed using an AMD Ryzen 3700x\n",
        "CPU and an AMD Radeon 6800 GPU.</em></strong>\n",
        "\n",
        "<hr></hr>\n",
        "\n",
        "### Na<sub>4</sub>Sn<sub>2</sub>Ge<sub>5</sub>O<sub>16</sub>\n",
        "\n",
        "![Sodium Conductor with Channels](https://github.com/Camgur/4PB3_Sodium_Conductor/blob/89063e302fde4656a65c12b8e674236dbfd52be6/Figures/Na4Sn2Ge5O16.png?raw=true)"
      ],
      "metadata": {
        "id": "ForA-SDuGl2C"
      }
    },
    {
      "cell_type": "markdown",
      "source": [
        "<p>Cloning the repo from github is this easy! Use <code>!ls</code> to list the directories directly in the <code>/content</code> section of this <strong>Colab</strong> session.</p>"
      ],
      "metadata": {
        "id": "kwA-g3OdKD4u"
      }
    },
    {
      "cell_type": "code",
      "source": [
        "!git clone https://github.com/Camgur/4PB3_Sodium_Conductor.git\n",
        "!ls"
      ],
      "metadata": {
        "id": "iLcaC-g1wYz8"
      },
      "execution_count": null,
      "outputs": []
    },
    {
      "cell_type": "markdown",
      "source": [
        "<p>Installing <strong>dependencies</strong>. The most current version of <strong>Torch</strong> is not compatible with the version of <strong>MACE</strong> we are using for this code.\n",
        "\n",
        "* <strong>Spglib</strong> is used to determine spacegroups for the crystal structures we are using.\n",
        "* <strong>NGLview</strong> is the viewer we are using to visualise CIF and Trajectory files\n",
        "* <strong>BVLain</strong> is the BVEL library we are using to construct the sodium channels\n",
        "\n",
        "<p>Note: <strong>FullProfSuite</strong> is the program used to calculate the BVEL in the paper. That said, <strong>BVLain</strong> is available in <strong>Python</strong>, so we will use it even though it may not be a one-to one comparison."
      ],
      "metadata": {
        "id": "tQ-sBNWuKnq5"
      }
    },
    {
      "cell_type": "code",
      "execution_count": null,
      "metadata": {
        "id": "8n8x9ozI9zdY"
      },
      "outputs": [],
      "source": [
        "!pip install torch==2.0.1 torchvision==0.15.2 torchaudio==2.0.2 --index-url https://download.pytorch.org/whl/cu118\n",
        "!pip install mace-torch\n",
        "!pip install spglib\n",
        "!pip install nglview==3.0.3\n",
        "!pip install bvlain"
      ]
    },
    {
      "cell_type": "code",
      "source": [
        "import torch\n",
        "import numpy as np\n",
        "import mace\n",
        "\n",
        "import matplotlib as mpl\n",
        "import matplotlib.pyplot as plt\n",
        "\n",
        "from mace.calculators import mace_mp, MACECalculator\n",
        "from ase.calculators.loggingcalc import LoggingCalculator\n",
        "from ase.optimize import BFGS\n",
        "\n",
        "from ase.visualize import view\n",
        "from ase import build, units, atoms\n",
        "from ase.io import read, write, Trajectory\n",
        "from ase.io.animation import write_gif\n",
        "\n",
        "from ase.constraints import ExpCellFilter, StrainFilter, UnitCellFilter\n",
        "from ase.spacegroup.symmetrize import FixSymmetry, check_symmetry\n",
        "from spglib import get_spacegroup"
      ],
      "metadata": {
        "id": "sVveiCA3raFu"
      },
      "execution_count": 3,
      "outputs": []
    },
    {
      "cell_type": "markdown",
      "source": [
        "<p>GPUs enable faster processing of the structure optimisation. If this reads <code>False</code>, please switch to GPU.<br>\n",
        "</br>Unless you hate yourself.</p>"
      ],
      "metadata": {
        "id": "4N6PTjssNJxx"
      }
    },
    {
      "cell_type": "code",
      "source": [
        "# Printing True if GPU is connected\n",
        "print(torch.cuda.is_available())"
      ],
      "metadata": {
        "id": "HVpTpPBux9C9"
      },
      "execution_count": null,
      "outputs": []
    },
    {
      "cell_type": "markdown",
      "source": [
        "<p>This is the ASE framework list of standard structures. These are pre-formed structures of <code>atoms</code> which can be used out of the box.</p>"
      ],
      "metadata": {
        "id": "2aij1fEGNtBF"
      }
    },
    {
      "cell_type": "code",
      "source": [
        "# List of generic structures to be imported\n",
        "from ase.collections import g2\n",
        "print(g2.names)"
      ],
      "metadata": {
        "id": "dhrAfgrxeFJQ"
      },
      "execution_count": null,
      "outputs": []
    },
    {
      "cell_type": "markdown",
      "source": [
        "## Water\n",
        "<hr>\n",
        "<p>The standard example of structure optimisation uses the water molecule. Here, the standard is imported from the above <code>g2</code> database.</p>\n",
        "<p>It is important to note that the standard unit to store data about a molecule or crystal structure is the <code>atoms</code> object, which <strong>ASE</strong> is built around."
      ],
      "metadata": {
        "id": "OfuAnpstN8qi"
      }
    },
    {
      "cell_type": "code",
      "source": [
        "# Building a water molecule\n",
        "atoms = build.molecule('H2O')\n",
        "view(atoms, viewer='x3d')"
      ],
      "metadata": {
        "id": "d2xicBRCroA6"
      },
      "execution_count": null,
      "outputs": []
    },
    {
      "cell_type": "markdown",
      "source": [
        "<p>A calculator may be attached to the <code>atoms</code> object using <code>atoms.calc</code>. Other similar options may be attached to an <code>atoms</code> object like this. Importantly, however, is that the calculator is not a global value.</p>\n",
        "<br>\n",
        "<p>Any model can be called from the <code>model=</code> argument, including a model that you have created. Additionally, the <strong>data type</strong> (either <em>float32</em> or <em>float64</em>) may be passed, and the <strong>device</strong> must be set (in this case, <em>cuda</em>). Note: if no <strong>data type</strong> is passed, the model used will automatically determine the best type to be used.</p>"
      ],
      "metadata": {
        "id": "LTbaMkDsPRK9"
      }
    },
    {
      "cell_type": "code",
      "source": [
        "# Setting the calculator for the atom structure\n",
        "calculator = mace_mp(model=\"medium\", dispersion=False, default_dtype=\"float64\", device='cuda')\n",
        "atoms.calc = calculator\n",
        "\n",
        "print(atoms.get_potential_energy())"
      ],
      "metadata": {
        "id": "FxG5hLbRsWfk"
      },
      "execution_count": null,
      "outputs": []
    },
    {
      "cell_type": "markdown",
      "source": [
        "## MACE-MP-0\n",
        "\n",
        "<p>Here, the model we will use for the remainder of the simulation is downloaded. Interestingly, the difference in energy between both models is about 4 $\\frac{kJ}{mol}$, or 0.04 eV. This is not a very significant difference, however. Plus, the validity of the <em>medium</em> model is unknown.</p>"
      ],
      "metadata": {
        "id": "jhPjsNKVRN8T"
      }
    },
    {
      "cell_type": "code",
      "source": [
        "# Setting the MACE-MP-0 Calculator\n",
        "calculator = MACECalculator(model_paths='/content/4PB3_Sodium_Conductor/2024-01-07-mace-128-L2_epoch-199.model',\n",
        "                            dispersion=False, device='cuda', default_dtype='float64')\n",
        "atoms.calc = calculator\n",
        "\n",
        "print(atoms.get_potential_energy())"
      ],
      "metadata": {
        "id": "GwLZFqaAvA5M"
      },
      "execution_count": null,
      "outputs": []
    },
    {
      "cell_type": "markdown",
      "source": [
        "<p>Here, the data output is tracked for later plotting by appling a second <code>log_calc</code>. Additionally, the atoms values for each iteration are saved in a <em>Trajectory</em> file. <strong>BFGS</strong> (Broyden–Fletcher–Goldfarb–Shanno algorithm) is the standard for structure optimisation in QM."
      ],
      "metadata": {
        "id": "l2UGe-8sS5Xv"
      }
    },
    {
      "cell_type": "code",
      "source": [
        "# Track Data\n",
        "nsteps = []\n",
        "energies = []\n",
        "log_calc = LoggingCalculator(calculator)\n",
        "\n",
        "print(atoms.symbols)\n",
        "\n",
        "# Set Log\n",
        "atoms.calc = log_calc\n",
        "\n",
        "# Optimise\n",
        "opt = BFGS(atoms, trajectory='/content/4PB3_Sodium_Conductor/Resources/Optimisation_Stuff/H2O.traj')"
      ],
      "metadata": {
        "id": "fv3LRMWh0KcT"
      },
      "execution_count": null,
      "outputs": []
    },
    {
      "cell_type": "markdown",
      "source": [
        "<p>Here, <code>opt.run</code> is invoked to start the structure optimisation using the above parameters attached to <code>opt</code>. The <em>fmax</em> parameter is the sum of forces on the atoms object each iteration in $\\frac{eV}{Å}$. When the forces reach this value, the optimisation will terminate.</p>"
      ],
      "metadata": {
        "id": "S3DOnqHLT_e0"
      }
    },
    {
      "cell_type": "code",
      "source": [
        "# Run Optimise\n",
        "opt.run(fmax=1e-4)\n",
        "print('Finished!!!')"
      ],
      "metadata": {
        "id": "SOmEPq7P1fFM"
      },
      "execution_count": null,
      "outputs": []
    },
    {
      "cell_type": "code",
      "source": [
        "# Plot Out\n",
        "plt.figure(figsize=(10,10))\n",
        "log_calc.plot(markers=['r-', 'b-'], energy=True, lw=2)\n",
        "plt.show()"
      ],
      "metadata": {
        "id": "r9inaN7y1leO"
      },
      "execution_count": null,
      "outputs": []
    },
    {
      "cell_type": "code",
      "source": [
        "print(atoms.get_potential_energy())"
      ],
      "metadata": {
        "id": "qb3F_PEG4aqV"
      },
      "execution_count": null,
      "outputs": []
    },
    {
      "cell_type": "markdown",
      "source": [
        "<p>As a demonstration of the <strong>ASE framework</strong>, the vibrational modes of H<sub>2</sub>O are calculated using <strong>MACE-MP-0</strong>. These can be saved as trajectories using <code>write_mode</code>."
      ],
      "metadata": {
        "id": "7I8iwKacVAB_"
      }
    },
    {
      "cell_type": "code",
      "source": [
        "from ase.vibrations import Vibrations\n",
        "\n",
        "# Running analysis of the vibrational modes\n",
        "# of H2O\n",
        "vib = Vibrations(atoms)\n",
        "vib.run()\n",
        "vib.summary()\n",
        "vib.write_mode(n=None, kT=0.02585199101165164, nimages=60)"
      ],
      "metadata": {
        "id": "voanQ2lVdqtN"
      },
      "execution_count": null,
      "outputs": []
    },
    {
      "cell_type": "markdown",
      "source": [
        "<p>Here, the <em>/Content/</em> directory of the <strong>Colab</strong> sesion is being parsed for any file that ends with <em>.traj</em>. Then, the trajectory file is used to construct a <em>.mp4</em> file, which can be played."
      ],
      "metadata": {
        "id": "i0dZ5W4oVr_J"
      }
    },
    {
      "cell_type": "code",
      "source": [
        "import os\n",
        "\n",
        "# Set the directory to connect\n",
        "directory = '/content/'\n",
        "\n",
        "# Iterate over the listed files in the directory\n",
        "for filename in os.listdir(directory):\n",
        "  f = os.path.join(directory, filename)\n",
        "\n",
        "  if f.endswith('.traj'): # If it is a trajectory file, it will proceed\n",
        "    traj = Trajectory(f)\n",
        "    write_gif(f.strip('.traj') + '.mp4', traj, interval=33, rotation=('270x,90y,0z')) #Writing an mp4 file"
      ],
      "metadata": {
        "id": "atxvSs5XpIJL"
      },
      "execution_count": null,
      "outputs": []
    },
    {
      "cell_type": "code",
      "source": [
        "from IPython.display import Video\n",
        "Video('/content/vib.6.mp4', embed=True) # Vibrational mode 6 for H2O\n",
        "\n",
        "# If the above fails:\n",
        "# Video('/content/4PB3_Sodium_Conductor/vib.6.mp4', embed=True)"
      ],
      "metadata": {
        "id": "B-8xtL4FL3-2"
      },
      "execution_count": null,
      "outputs": []
    },
    {
      "cell_type": "markdown",
      "source": [
        "<p><strong>Google Colab</strong> only allows external widgets to be used if the below is invoked. In my experience, it must be repeated shortly before any cell that uses <strong>NGLview</strong>, so a repeat cell is included before each <strong>NGLview</strong> cell."
      ],
      "metadata": {
        "id": "3gU67BlBWc7i"
      }
    },
    {
      "cell_type": "code",
      "source": [
        "from google.colab import output\n",
        "output.enable_custom_widget_manager()"
      ],
      "metadata": {
        "id": "EPazEDYpeqhP"
      },
      "execution_count": 18,
      "outputs": []
    },
    {
      "cell_type": "code",
      "source": [
        "import nglview as nv\n",
        "\n",
        "traj = Trajectory('/content/vib.6.traj')\n",
        "view(traj, viewer='ngl')"
      ],
      "metadata": {
        "id": "Xphywb1Pe4mD"
      },
      "execution_count": null,
      "outputs": []
    },
    {
      "cell_type": "markdown",
      "source": [
        "##Importing Crystals\n",
        "\n",
        "<p>Here, the crystal file <code>Na4Sn2Ge5O16_fixed.cif</code> is imported. Atoms outside of the unit cell were discarded to enable the smooth completion of the optimisation. Additionally, <code>atoms.set_constraint(FixSymmetry(atoms))</code> was used to maintain the symmetry operations of the spacegroup (pbcn)."
      ],
      "metadata": {
        "id": "ZUplzqRVXElQ"
      }
    },
    {
      "cell_type": "code",
      "source": [
        "from google.colab import output\n",
        "output.enable_custom_widget_manager()"
      ],
      "metadata": {
        "id": "oJFoYVt6gqv1"
      },
      "execution_count": 20,
      "outputs": []
    },
    {
      "cell_type": "code",
      "source": [
        "# Importing Stuff\n",
        "atoms = read('/content/4PB3_Sodium_Conductor/Resources/Na4Sn2Ge5O16_fixed.cif')\n",
        "\n",
        "# Set Calculator\n",
        "atoms.calc = calculator\n",
        "print(atoms.symbols)\n",
        "\n",
        "# Track Data\n",
        "nsteps = []\n",
        "energies = []\n",
        "log_calc = LoggingCalculator(calculator)\n",
        "\n",
        "# Set Log\n",
        "atoms.calc = log_calc\n",
        "\n",
        "# Set Cell filter (preserve unit cell ratioe or symmetry)\n",
        "# atoms = ExpCellFilter(atoms, hydrostatic_strain=False)\n",
        "atoms.set_constraint(FixSymmetry(atoms))\n",
        "\n",
        "view(atoms, viewer='ngl')"
      ],
      "metadata": {
        "id": "PfDf7EibPwSa"
      },
      "execution_count": null,
      "outputs": []
    },
    {
      "cell_type": "markdown",
      "source": [
        "<p>The <code>atoms.rattle</code> function is used to apply a gaussian deviation to the atomic coordinates within one Å."
      ],
      "metadata": {
        "id": "HYAN4QEwYEPV"
      }
    },
    {
      "cell_type": "code",
      "source": [
        "from ase.visualize.plot import plot_atoms\n",
        "\n",
        "# Begin Plot\n",
        "fig, axarr = plt.subplots(1, 2, figsize=(10, 7))\n",
        "\n",
        "plot_atoms(atoms, axarr[0], radii=0.3, rotation=('0x,0y,0z')).set_title('Pristine')\n",
        "\n",
        "\n",
        "atoms.rattle(1) #Angstom, gaussian\n",
        "\n",
        "\n",
        "plot_atoms(atoms, axarr[1], radii=0.3, rotation=('0x,0y,0z')).set_title('Rattled')\n",
        "\n",
        "plt.show()"
      ],
      "metadata": {
        "id": "E8RFZPKfQZ6L"
      },
      "execution_count": null,
      "outputs": []
    },
    {
      "cell_type": "code",
      "source": [
        "print(\"Cell size before: \", atoms.cell)"
      ],
      "metadata": {
        "id": "uYAtpGc3Q7vB"
      },
      "execution_count": null,
      "outputs": []
    },
    {
      "cell_type": "markdown",
      "source": [
        "<p>This cell will take about one minute to run on a V100 GPU.</p>"
      ],
      "metadata": {
        "id": "ZBY8XdC8YeiT"
      }
    },
    {
      "cell_type": "code",
      "source": [
        "# Run Optimise\n",
        "opt = BFGS(UnitCellFilter(atoms), trajectory='/content/trajectory.traj')\n",
        "opt.run(fmax=1e-4)\n",
        "\n",
        "print(\"Cell size after : \", atoms.cell)\n",
        "print(\"Spacegroup: \", get_spacegroup((atoms.cell, atoms.get_scaled_positions(), atoms.numbers), symprec=1e-2))\n",
        "atoms.write('/content/optimisation.cif')\n",
        "\n",
        "# Plot Out\n",
        "plt.figure(figsize=(10,10))\n",
        "log_calc.plot(markers=['r-', 'b-'], energy=True, lw=2)\n",
        "plt.show()\n",
        "\n",
        "print('Finished!!!')"
      ],
      "metadata": {
        "id": "VMZmPIV4bfKe"
      },
      "execution_count": null,
      "outputs": []
    },
    {
      "cell_type": "markdown",
      "source": [
        "## Iteration\n",
        "\n",
        "<p>In order to run iterations, the <code>atoms</code> object must be set each time, and the parameters applied to it as well. Importantly, the seed must be set to a new value, or the rng value applied must be changed. If this does not occur, the rattle will instead default to the same value for each iteration after the first, leading to a bad result akin to running the same optimisation over and over again. This is, however, extremely useful in running tandem optimisations.</p>"
      ],
      "metadata": {
        "id": "nQHQ33EUYnvV"
      }
    },
    {
      "cell_type": "markdown",
      "source": [
        "Example code for running iterations:\n",
        "\n",
        "```\n",
        "for i in range(iter):\n",
        "    print('Iteration: ', i+1)\n",
        "    # Set Savestate\n",
        "    trajsave = '/content/Trajectories/Trajectory_1_'\n",
        "    trajsave += str(i)\n",
        "    trajsave += '.traj'\n",
        "    cifsave = '/content/TCIF/Crystal_1_'\n",
        "    cifsave += str(i)\n",
        "    cifsave += '.cif'\n",
        "\n",
        "    #set atoms\n",
        "    atoms = read('/content/drive/MyDrive/Chem_4PB3/Resources/Na4Sn2Ge5O16_fixed.cif')\n",
        "    atoms.set_constraint(FixSymmetry(atoms))\n",
        "    atoms.rattle(stdev=1, seed=i) # seed required to generate different randomness\n",
        "    atoms.calc = calculator\n",
        "\n",
        "    # Optimise\n",
        "    opt = BFGS(UnitCellFilter(atoms), trajectory=trajsave)\n",
        "    opt.run(fmax=1e-4)\n",
        "    atoms.write(cifsave)\n",
        "\n",
        "    # Output Params\n",
        "    print('\\n\\n')\n",
        "    print(\"Cell size after : \", atoms.cell)\n",
        "    print(\"Spacegroup: \", get_spacegroup((atoms.cell, atoms.get_scaled_positions(), atoms.numbers), symprec=1e-2))\n",
        "    print('Iteration: ', i+1)\n",
        "```\n"
      ],
      "metadata": {
        "id": "l6IPx2v2dQkG"
      }
    },
    {
      "cell_type": "markdown",
      "source": [
        "To create a compilation of trajectories:\n",
        "```\n",
        "# Import Trajectories\n",
        "traj = []\n",
        "for i in range(15):\n",
        "    traject = '/content/Trajectories/Trajectory_1_' + str(i) + '.traj'\n",
        "    traj.append(Trajectory(traject))\n",
        "\n",
        "# Draft Compiled Trajectory\n",
        "write('/content/Compiled.traj', '')\n",
        "for i in range(len(traj[0])):\n",
        "    atom = None\n",
        "    atoms = []\n",
        "    for n in range(len(traj)):\n",
        "        atoms.append(traj[n][i])\n",
        "    atom = atoms[0] + atoms[1] + atoms[2] + atoms[3] + atoms[4] + atoms[5] + atoms[6] + atoms[7] +\\\n",
        "            atoms[8] + atoms[9] + atoms[10] + atoms[11] + atoms[12] + atoms[13] + atoms[14]\n",
        "    with Trajectory('/content/Compiled.traj', mode='a') as trajectory:\n",
        "        trajectory.write(atom)\n",
        "```\n",
        "Annoyingly, it is surprisingly difficult to work with trajectory files containing more than one <code>atoms</code> object! <code>atoms</code> objects cannot be added together except by addition, but the '+=' function doesn't seem to work to loop together additions. Rather, it appears that each atom object must be added individually and manually."
      ],
      "metadata": {
        "id": "wnMqdzD1lSen"
      }
    },
    {
      "cell_type": "code",
      "source": [
        "from google.colab import output\n",
        "output.enable_custom_widget_manager()"
      ],
      "metadata": {
        "id": "-qTLbm_bkT-P"
      },
      "execution_count": 25,
      "outputs": []
    },
    {
      "cell_type": "markdown",
      "source": [
        "<p>It is recommended that you switch the color scheme to <em>atomindex</em> to easily differentiate between the individual <code>atoms</code> objects contained within this trajectory file. The slider under <em>ball size</em> may be used to switch between iterations.<p>\n",
        "<p>This dataset had one outlier convergence (rattle = 1 A):</p>"
      ],
      "metadata": {
        "id": "y72HMtHlGA_4"
      }
    },
    {
      "cell_type": "code",
      "source": [
        "traj = Trajectory('/content/4PB3_Sodium_Conductor/Resources/Compiled_out.traj')\n",
        "view(traj, viewer='ngl')\n",
        "# Use atom index colour to show the overlap converging\n",
        "\n",
        "# write('/content/drive/MyDrive/Chem_4PB3/Resources/Compiled.mp4', traj, interval=33, rotation=('45x,45y,35z'))"
      ],
      "metadata": {
        "id": "wXheE5slkgWu"
      },
      "execution_count": null,
      "outputs": []
    },
    {
      "cell_type": "code",
      "source": [
        "length = []\n",
        "for i in range(15):\n",
        "  traj = Trajectory('/content/4PB3_Sodium_Conductor/Resources/Trajectories/Trajectory_1_' + str(i) + '.traj')\n",
        "  length.append(len(traj))\n",
        "print(length)\n",
        "print('Trajectory 13: ', length[13], '\\n\\n\\n')\n",
        "\n",
        "traj = Trajectory('/content/4PB3_Sodium_Conductor/Resources/Trajectories/Trajectory_1_13.traj')\n",
        "print('Initial Energy (eV): ', traj[0].get_total_energy())\n",
        "print('Final Energy (eV): ', traj[-1].get_total_energy())"
      ],
      "metadata": {
        "id": "86jzUqYZ4C6z"
      },
      "execution_count": null,
      "outputs": []
    },
    {
      "cell_type": "markdown",
      "source": [
        "With the outlier removed:"
      ],
      "metadata": {
        "id": "czi_zkz4GHqv"
      }
    },
    {
      "cell_type": "code",
      "source": [
        "from google.colab import output\n",
        "output.enable_custom_widget_manager()"
      ],
      "metadata": {
        "id": "3l3qHzztLZjE"
      },
      "execution_count": 28,
      "outputs": []
    },
    {
      "cell_type": "code",
      "source": [
        "traj = Trajectory('/content/4PB3_Sodium_Conductor/Resources/Compiled.traj')\n",
        "view(traj, viewer='ngl')\n",
        "# Use atom index colour to show the overlap converging\n",
        "\n",
        "# write('/content/4PB3_Sodium_Conductor/Resources/Compiled.mp4', traj, interval=33, rotation=('45x,45y,35z'))"
      ],
      "metadata": {
        "id": "BA-RtHv9GG0I"
      },
      "execution_count": null,
      "outputs": []
    },
    {
      "cell_type": "markdown",
      "source": [
        "<p>Here, we are pulling the individual trajectories and assessing its energy value.</p>"
      ],
      "metadata": {
        "id": "spqd3QUXa-Y1"
      }
    },
    {
      "cell_type": "code",
      "source": [
        "# Set energies\n",
        "energies = []\n",
        "for i in range(15):\n",
        "    if i != 13: # Delete Outlier\n",
        "        traj = Trajectory('/content/4PB3_Sodium_Conductor/Resources/Trajectories/Trajectory_1_' + str(i) + '.traj')\n",
        "        energy = []\n",
        "        for n in range(170):\n",
        "            energy.append(traj[n].get_total_energy())\n",
        "        energies.append(energy)\n",
        "        print('Iteration: ', i + 1)\n",
        "\n",
        "energies = np.array(energies)\n",
        "\n",
        "# Average by iteration\n",
        "average = []\n",
        "stdev = []\n",
        "for i in range(170):\n",
        "    average = np.append(average, np.average(energies[:, i]))\n",
        "    stdev = np.append(stdev, np.std(energies[:, i]))"
      ],
      "metadata": {
        "id": "qfouCr51FSw0"
      },
      "execution_count": null,
      "outputs": []
    },
    {
      "cell_type": "code",
      "source": [
        "# Set linspace for dataset\n",
        "x1 = np.linspace(1, 170, 170)\n",
        "x2 = np.linspace(1, 20, 20)\n",
        "y = average\n",
        "\n",
        "# Plotting the set\n",
        "fig, ax = plt.subplots(figsize=(10,10), layout=\"tight\")\n",
        "ax.plot(x1, average, color='black')\n",
        "plt.fill_between(x1, y-stdev, y+stdev, color='red', alpha=.3) # This is the standard deviation\n",
        "ax.set_xlabel('Iteration')\n",
        "ax.set_ylabel('Average Energy (eV)')\n",
        "ax.set_title('Average Energy Over Iteration Number', pad=30)\n",
        "\n",
        "plt.show()"
      ],
      "metadata": {
        "id": "5FzGGH-LFZ27"
      },
      "execution_count": null,
      "outputs": []
    },
    {
      "cell_type": "markdown",
      "source": [
        "<p>Zoomed in on first 20 iterations:</p>"
      ],
      "metadata": {
        "id": "uNKe9nrQNQ1a"
      }
    },
    {
      "cell_type": "code",
      "source": [
        "fig, ax = plt.subplots(figsize=(10,10), layout=\"tight\")\n",
        "ax.plot(x2, average[:20], color='black')\n",
        "# ax.errorbar(np.linspace(1, 170, 170), average, yerr=stdev, fmt='none', color='red')\n",
        "plt.fill_between(x2, y[:20]-stdev[:20], y[:20]+stdev[:20], color='red', alpha=.3)\n",
        "ax.set_xlabel('Iteration')\n",
        "ax.set_xticks(x2)\n",
        "ax.set_ylabel('Average Energy (eV)')\n",
        "ax.set_title('Average Energy Over Iteration Number', pad=30)\n",
        "\n",
        "plt.show()"
      ],
      "metadata": {
        "id": "sLz8i0fLFeqf"
      },
      "execution_count": null,
      "outputs": []
    },
    {
      "cell_type": "markdown",
      "source": [
        "## Channels\n",
        "\n",
        "<p>The channels were created on the home PC using <strong>BVLain</strong>. That said, the page for the library is incredibly short and frankly bad currently. The result is pretty good, but the validity compared to a dedicated program like <strong>FullProfSuite</strong> should be determined."
      ],
      "metadata": {
        "id": "fznbYd-vbPsu"
      }
    },
    {
      "cell_type": "code",
      "source": [
        "from bvlain import Lain\n",
        "\n",
        "# Actually Using: BVlain\n",
        "# https://pypi.org/project/bvlain/\n",
        "# https://bvlain.readthedocs.io/en/latest/index.html\n",
        "\n",
        "# Initialise File\n",
        "file = '/content/4PB3_Sodium_Conductor/Resources/Optimisation_Stuff/Optimisation_0_3.cif'\n",
        "\n",
        "# Set Calculator\n",
        "calc = Lain(verbose=True)\n",
        "\n",
        "# Set State\n",
        "st = calc.read_file(file)\n",
        "\n",
        "params = {'mobile_ion': 'Na1+',    # mobile specie\n",
        "\t\t  'r_cut': 10.0,           # cutoff for interaction between the mobile species and framework\n",
        "\t\t  'resolution': 0.1,\t   # distance between the grid points\n",
        "\t\t  'k': 100                 # maximum number of neighbors to be collected for each point\n",
        "}"
      ],
      "metadata": {
        "id": "6OqjdeVzJno3"
      },
      "execution_count": 33,
      "outputs": []
    },
    {
      "cell_type": "markdown",
      "source": [
        "<p>This crashes:\n",
        "\n",
        "I don't know why. My home PC can handle this fine.</p>"
      ],
      "metadata": {
        "id": "kjB37F86OtTZ"
      }
    },
    {
      "cell_type": "code",
      "source": [
        "# Run Distributions\n",
        "_ = calc.bvse_distribution(**params)\n",
        "# _ = calc.void_distribution(**params)\n",
        "\n",
        "# Perform Percolation Analysis\n",
        "calc.percolation_barriers(encut = 5.0)\n",
        "\n",
        "# Create Savestate\n",
        "savestate = file.replace('.cif', '_bvel')\n",
        "\n",
        "# Write Grid File\n",
        "calc.write_grd(filename = savestate, task = 'bvse')  # saves .grd file\n",
        "calc.write_cube(filename = savestate, task = 'bvse')  # saves .cube file\n",
        "\n",
        "# Check for Mismatches\n",
        "table = calc.mismatch(r_cut = 4.0)\n",
        "# print(table.to_string())\n",
        "print('Finished!!!')\n",
        "\n",
        "# MAKE SURE TO SET ISOSURFACE TO 0.4\n",
        "# MUST SET THE ISOSURFACE TO NEGATIVE"
      ],
      "metadata": {
        "id": "mC9eLzBIM3qM"
      },
      "execution_count": null,
      "outputs": []
    },
    {
      "cell_type": "markdown",
      "source": [
        "## Displaying the Ion Channels\n",
        "\n",
        "<p>The <em>.grd</em> files were taken from <strong>BVLain</strong> and imported as an isosurface on the conductor CIF file in <strong>VESTA</strong> software. Isosurface was set to 0.4 and the phase was set to negative only to display the below figures."
      ],
      "metadata": {
        "id": "gqcGIpG0NcQi"
      }
    },
    {
      "cell_type": "code",
      "source": [
        "from IPython.display import Image\n",
        "Image('/content/4PB3_Sodium_Conductor/Figures/Na4Sn2Ge5O16.png', embed=True, width='1000')"
      ],
      "metadata": {
        "id": "GkdSUn_FPn0R"
      },
      "execution_count": null,
      "outputs": []
    },
    {
      "cell_type": "code",
      "source": [
        "Image('/content/4PB3_Sodium_Conductor/Figures/Na4Sn2Ge5O16_NoAtoms.png', embed=True, width='1000')"
      ],
      "metadata": {
        "id": "4s6q7IN9Rb-w"
      },
      "execution_count": null,
      "outputs": []
    },
    {
      "cell_type": "code",
      "source": [
        "Image('/content/4PB3_Sodium_Conductor/Figures/Na4Sn2Ge5O16_NoPolyhedra.png', embed=True, width='1000')"
      ],
      "metadata": {
        "id": "_FFV8taQRcul"
      },
      "execution_count": null,
      "outputs": []
    },
    {
      "cell_type": "markdown",
      "source": [
        "# Citations"
      ],
      "metadata": {
        "id": "eMjIKqVagI80"
      }
    },
    {
      "cell_type": "code",
      "source": [
        "# MACE-MP-0\n",
        "@misc{batatia2023foundation,\n",
        "    title={A foundation model for atomistic materials chemistry},\n",
        "    author={Ilyes Batatia and Philipp Benner and Yuan Chiang and Alin M. Elena and Dávid P. Kovács and Janosh Riebesell and Xavier R. Advincula and Mark Asta and William J. Baldwin and Noam Bernstein and Arghya Bhowmik and Samuel M. Blau and Vlad Cărare and James P. Darby and Sandip De and Flaviano Della Pia and Volker L. Deringer and Rokas Elijošius and Zakariya El-Machachi and Edvin Fako and Andrea C. Ferrari and Annalena Genreith-Schriever and Janine George and Rhys E. A. Goodall and Clare P. Grey and Shuang Han and Will Handley and Hendrik H. Heenen and Kersti Hermansson and Christian Holm and Jad Jaafar and Stephan Hofmann and Konstantin S. Jakob and Hyunwook Jung and Venkat Kapil and Aaron D. Kaplan and Nima Karimitari and Namu Kroupa and Jolla Kullgren and Matthew C. Kuner and Domantas Kuryla and Guoda Liepuoniute and Johannes T. Margraf and Ioan-Bogdan Magdău and Angelos Michaelides and J. Harry Moore and Aakash A. Naik and Samuel P. Niblett and Sam Walton Norwood and Niamh O''Neill and Christoph Ortner and Kristin A. Persson and Karsten Reuter and Andrew S. Rosen and Lars L. Schaaf and Christoph Schran and Eric Sivonxay and Tamás K. Stenczel and Viktor Svahn and Christopher Sutton and Cas van der Oord and Eszter Varga-Umbrich and Tejs Vegge and Martin Vondrák and Yangshuai Wang and William C. Witt and Fabian Zills and Gábor Csányi},\n",
        "    year={2023},\n",
        "    eprint={2401.00096},\n",
        "    archivePrefix={arXiv},\n",
        "    primaryClass={physics.chem-ph}\n",
        "}\n",
        "\n",
        "# PyTorch\n",
        "@incollection{NEURIPS2019_9015,\n",
        "title = {PyTorch: An Imperative Style, High-Performance Deep Learning Library},\n",
        "author = {Paszke, Adam and Gross, Sam and Massa, Francisco and Lerer, Adam and Bradbury, James and Chanan, Gregory and Killeen, Trevor and Lin, Zeming and Gimelshein, Natalia and Antiga, Luca and Desmaison, Alban and Kopf, Andreas and Yang, Edward and DeVito, Zachary and Raison, Martin and Tejani, Alykhan and Chilamkurthy, Sasank and Steiner, Benoit and Fang, Lu and Bai, Junjie and Chintala, Soumith},\n",
        "booktitle = {Advances in Neural Information Processing Systems 32},\n",
        "pages = {8024--8035},\n",
        "year = {2019},\n",
        "publisher = {Curran Associates, Inc.},\n",
        "url = {http://papers.neurips.cc/paper/9015-pytorch-an-imperative-style-high-performance-deep-learning-library.pdf}\n",
        "}\n",
        "\n",
        "# Matplotlib\n",
        "@Article{Hunter:2007,\n",
        "  Author    = {Hunter, J. D.},\n",
        "  Title     = {Matplotlib: A 2D graphics environment},\n",
        "  Journal   = {Computing in Science \\& Engineering},\n",
        "  Volume    = {9},\n",
        "  Number    = {3},\n",
        "  Pages     = {90--95},\n",
        "  abstract  = {Matplotlib is a 2D graphics package used for Python for\n",
        "  application development, interactive scripting, and publication-quality\n",
        "  image generation across user interfaces and operating systems.},\n",
        "  publisher = {IEEE COMPUTER SOC},\n",
        "  doi       = {10.1109/MCSE.2007.55},\n",
        "  year      = 2007\n",
        "}\n",
        "\n",
        "# spglib\n",
        "@misc{spglibv1,\n",
        "  Author = {Atsushi Togo and Isao Tanaka},\n",
        "  Title = {$\\texttt{Spglib}$: a software library for crystal symmetry search},\n",
        "  Eprint = {arXiv:1808.01590},\n",
        "  howpublished = {\\url{https://github.com/spglib/spglib}},\n",
        "  year = {2018}\n",
        "}\n",
        "\n",
        "# NGLviewer\n",
        "@article{10.1093/bioinformatics/btx789,\n",
        "    author = {Nguyen, Hai and Case, David A and Rose, Alexander S},\n",
        "    title = \"{NGLview–interactive molecular graphics for Jupyter notebooks}\",\n",
        "    journal = {Bioinformatics},\n",
        "    volume = {34},\n",
        "    number = {7},\n",
        "    pages = {1241-1242},\n",
        "    year = {2017},\n",
        "    month = {12},\n",
        "    abstract = \"{NGLview is a Jupyter/IPython widget to interactively view molecular structures as well as trajectories from molecular dynamics simulations. Fast and scalable molecular graphics are provided through the NGL Viewer. The widget supports showing data from the file-system, online data bases and from objects of many popular analysis libraries including mdanalysis, mdtraj, pytraj, rdkit and more.The source code is freely available under the MIT license at https://github.com/arose/nglview. Python packages are available from PyPI and bioconda. NGLview uses Python on the server-side and JavaScript on the client. The integration with Jupyter is done through the ipywidgets package. The NGL Viewer is embedded client-side to provide WebGL accelerated molecular graphics.}\",\n",
        "    issn = {1367-4803},\n",
        "    doi = {10.1093/bioinformatics/btx789},\n",
        "    url = {https://doi.org/10.1093/bioinformatics/btx789},\n",
        "    eprint = {https://academic.oup.com/bioinformatics/article-pdf/34/7/1241/48914829/bioinformatics\\_34\\_7\\_1241.pdf},\n",
        "}\n",
        "\n",
        "# BVLain (No official citation)\n",
        "  author = Artem Dembitskiy\n",
        "  Year = 2022\n",
        "  URL = 'https://bvlain.readthedocs.io/en/latest/index.html'"
      ],
      "metadata": {
        "id": "vDx7_4PWgMGn"
      },
      "execution_count": null,
      "outputs": []
    }
  ]
}