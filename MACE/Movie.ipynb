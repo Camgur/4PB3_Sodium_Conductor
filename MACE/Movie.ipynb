{
 "cells": [
  {
   "cell_type": "code",
   "execution_count": 1,
   "metadata": {},
   "outputs": [],
   "source": [
    "from ase import atoms, units\n",
    "from ase.io import read, write\n",
    "from ase.visualize import view\n",
    "from ase.io.trajectory import Trajectory\n",
    "import matplotlib.pyplot as plt\n",
    "from ase.visualize.plot import plot_atoms\n",
    "\n",
    "from mace.calculators import MACECalculator"
   ]
  },
  {
   "cell_type": "code",
   "execution_count": null,
   "metadata": {},
   "outputs": [
    {
     "data": {
      "application/vnd.jupyter.widget-view+json": {
       "model_id": "51de9c3188984b13b9cd05e4667058cb",
       "version_major": 2,
       "version_minor": 0
      },
      "text/plain": []
     },
     "metadata": {},
     "output_type": "display_data"
    },
    {
     "data": {
      "application/vnd.jupyter.widget-view+json": {
       "model_id": "bd84611cdae9408b95e042b8e9692c8c",
       "version_major": 2,
       "version_minor": 0
      },
      "text/plain": [
       "HBox(children=(NGLWidget(max_frame=159), VBox(children=(Dropdown(description='Show', options=('All', 'Sn', 'Na…"
      ]
     },
     "execution_count": 2,
     "metadata": {},
     "output_type": "execute_result"
    }
   ],
   "source": [
    "traj = Trajectory('/home/camgur/Documents/Coding/Chem_4PB3/Resources/Compiled_traj.traj')\n",
    "\n",
    "# RUNNING into issues\n",
    "# write('/home/camgur/Documents/Coding/Chem_4PB3/Movies/Unit_cell_opt.gif', traj, radii=0.7, rotation='50y, 5z, 30x', interval=33)\n",
    "\n",
    "# print(traj[0].get_positions().shape)\n",
    "# print(len(traj))\n",
    "\n",
    "view(traj, viewer='ngl')"
   ]
  }
 ],
 "metadata": {
  "kernelspec": {
   "display_name": "Python 3",
   "language": "python",
   "name": "python3"
  },
  "language_info": {
   "codemirror_mode": {
    "name": "ipython",
    "version": 3
   },
   "file_extension": ".py",
   "mimetype": "text/x-python",
   "name": "python",
   "nbconvert_exporter": "python",
   "pygments_lexer": "ipython3",
   "version": "3.11.2"
  }
 },
 "nbformat": 4,
 "nbformat_minor": 2
}
